{
 "cells": [
  {
   "cell_type": "markdown",
   "metadata": {
    "dotnet_interactive": {
     "language": "csharp"
    },
    "polyglot_notebook": {
     "kernelName": "csharp"
    }
   },
   "source": [
    "# Information\n",
    "\n",
    "The lambda will be zipped and uplodaded to an S3, where it will trigger CloudFormation to create stack. The stack will create an API Gateway and the necessary role. The S3 bucket and the SNS topic won't be created by CloudFormation though so this file includes the CLI commands to do it. Alternatively, use existing ones and skip the creation cells.\n",
    "\n",
    "The CLI commands for tags are commented out. They are mainly for information purposes. Nevertheless, remember that tagging resources is a best practice."
   ]
  },
  {
   "cell_type": "markdown",
   "metadata": {
    "dotnet_interactive": {
     "language": "csharp"
    }
   },
   "source": [
    "# Function information\n",
    "\n",
    "By default, the function name will be the folder name of the .NET project"
   ]
  },
  {
   "cell_type": "code",
   "execution_count": null,
   "metadata": {
    "dotnet_interactive": {
     "language": "pwsh"
    },
    "vscode": {
     "languageId": "polyglot-notebook"
    }
   },
   "outputs": [],
   "source": [
    "$functionName = Split-Path -Path $pwd -Leaf\n",
    "Write-Host \"Function name: $functionName\"\n",
    "\n",
    "$functionNameLower = ($functionName).ToLower()\n",
    "Write-Host \"Function name lowercase: $functionNameLower\"\n",
    "\n",
    "$tagKeyValue = \"Key=lambda,Value='$functionNameLower'\"\n",
    "Write-Host \"Tag key value: $tagKeyValue\"\n",
    "\n",
    "$tagset = \"TagSet=[{$tagKeyValue}]\"\n",
    "Write-Host \"Tag set: $tagset\""
   ]
  },
  {
   "cell_type": "markdown",
   "metadata": {
    "dotnet_interactive": {
     "language": "csharp"
    },
    "polyglot_notebook": {
     "kernelName": "csharp"
    }
   },
   "source": [
    "# Prerequisites"
   ]
  },
  {
   "cell_type": "markdown",
   "metadata": {
    "dotnet_interactive": {
     "language": "csharp"
    },
    "polyglot_notebook": {
     "kernelName": "csharp"
    }
   },
   "source": [
    "## S3 Bucket"
   ]
  },
  {
   "cell_type": "code",
   "execution_count": null,
   "metadata": {
    "dotnet_interactive": {
     "language": "pwsh"
    },
    "vscode": {
     "languageId": "polyglot-notebook"
    }
   },
   "outputs": [],
   "source": [
    "$s3Bucket = \"play-with-lambdas\"\n",
    "Write-Host \"S3 Bucket: $s3Bucket\"\n",
    "$s3BucketUri = \"s3://\" + $s3Bucket\n",
    "Write-Host \"S3 Bucket URI: $s3BucketUri\""
   ]
  },
  {
   "cell_type": "markdown",
   "metadata": {
    "dotnet_interactive": {
     "language": "csharp"
    },
    "polyglot_notebook": {
     "kernelName": "csharp"
    }
   },
   "source": [
    "If it doesn't exist, create it"
   ]
  },
  {
   "cell_type": "code",
   "execution_count": null,
   "metadata": {
    "dotnet_interactive": {
     "language": "pwsh"
    },
    "vscode": {
     "languageId": "polyglot-notebook"
    }
   },
   "outputs": [],
   "source": [
    "aws s3 mb $s3BucketUri\n",
    "#aws s3api put-bucket-tagging --bucket $s3Bucket --tagging $tagset"
   ]
  },
  {
   "cell_type": "markdown",
   "metadata": {
    "dotnet_interactive": {
     "language": "csharp"
    },
    "polyglot_notebook": {
     "kernelName": "csharp"
    }
   },
   "source": [
    "## SNS Topic"
   ]
  },
  {
   "cell_type": "code",
   "execution_count": null,
   "metadata": {
    "dotnet_interactive": {
     "language": "pwsh"
    },
    "vscode": {
     "languageId": "polyglot-notebook"
    }
   },
   "outputs": [],
   "source": [
    "$snsTopicName = $functionName\n",
    "Write-Host \"SNS Topic: $snsTopicName\" \n",
    "$snsTopicArn = \"arn:aws:sns:us-west-1:128163920149:LambdaMinimalApiPublishesOnSNS\""
   ]
  },
  {
   "cell_type": "markdown",
   "metadata": {
    "dotnet_interactive": {
     "language": "csharp"
    },
    "polyglot_notebook": {
     "kernelName": "csharp"
    }
   },
   "source": [
    "If it doesn't exist, create it"
   ]
  },
  {
   "cell_type": "code",
   "execution_count": null,
   "metadata": {
    "dotnet_interactive": {
     "language": "pwsh"
    },
    "vscode": {
     "languageId": "polyglot-notebook"
    }
   },
   "outputs": [],
   "source": [
    "$out = aws sns create-topic --name $snsTopicName\n",
    "$snsTopicArn = ($out | ConvertFrom-Json).TopicArn\n",
    "Write-Host \"SNS Topic ARN: $snsTopicArn\"\n",
    "#aws sns tag-resource --resource $snsTopicArn --tags $tagKeyValue"
   ]
  },
  {
   "cell_type": "markdown",
   "metadata": {
    "dotnet_interactive": {
     "language": "csharp"
    },
    "polyglot_notebook": {
     "kernelName": "csharp"
    }
   },
   "source": [
    "# Deploy"
   ]
  },
  {
   "cell_type": "markdown",
   "metadata": {
    "dotnet_interactive": {
     "language": "csharp"
    },
    "polyglot_notebook": {
     "kernelName": "csharp"
    }
   },
   "source": [
    "Deploy the function"
   ]
  },
  {
   "cell_type": "code",
   "execution_count": null,
   "metadata": {
    "dotnet_interactive": {
     "language": "pwsh"
    },
    "vscode": {
     "languageId": "polyglot-notebook"
    }
   },
   "outputs": [],
   "source": [
    "dotnet lambda deploy-serverless --stack-name $functionName --s3-bucket $s3Bucket\n",
    "#aws lambda tag-resource --resource $functionArn --tags $tagKeyValue"
   ]
  },
  {
   "attachments": {},
   "cell_type": "markdown",
   "metadata": {
    "dotnet_interactive": {
     "language": "pwsh"
    },
    "polyglot_notebook": {
     "kernelName": "pwsh"
    }
   },
   "source": [
    "If \"Run All\", just sleep because the Polyglot notebooks just sucks."
   ]
  },
  {
   "cell_type": "code",
   "execution_count": null,
   "metadata": {
    "dotnet_interactive": {
     "language": "pwsh"
    },
    "polyglot_notebook": {
     "kernelName": "pwsh"
    },
    "vscode": {
     "languageId": "polyglot-notebook"
    }
   },
   "outputs": [],
   "source": [
    "Write-Host \"Sleeping for 5s...\"\n",
    "Start-Sleep -Seconds 5\n",
    "Write-Host \"Back to business!\""
   ]
  },
  {
   "cell_type": "markdown",
   "metadata": {
    "dotnet_interactive": {
     "language": "csharp"
    },
    "polyglot_notebook": {
     "kernelName": "csharp"
    }
   },
   "source": [
    "Get the deployment details"
   ]
  },
  {
   "cell_type": "code",
   "execution_count": null,
   "metadata": {
    "dotnet_interactive": {
     "language": "pwsh"
    },
    "vscode": {
     "languageId": "polyglot-notebook"
    }
   },
   "outputs": [],
   "source": [
    "$deployedFunctionName = aws lambda list-functions --query \"Functions[?starts_with(FunctionName, '$functionName')].FunctionName\" --output text\n",
    "Write-Host \"Deployed function name: $deployedFunctionName\"\n",
    "\n",
    "$function = aws lambda get-function --function-name $deployedFunctionName\n",
    "$functionJson = $function | ConvertFrom-Json\n",
    "Write-Host \"Function ARN: $functionArn = $functionJson.Configuration.FunctionArn\"\n",
    "\n",
    "$roleArn = $functionJson.Configuration.Role\n",
    "$roleName = ($roleArn).split(\"/\")[1]\n",
    "Write-Host \"Role nane: $roleName\"\n",
    "\n",
    "$cloudfrontStack = aws cloudformation describe-stacks --stack-name $functionName\n",
    "$cloudfrontStackJson = $cloudfrontStack | ConvertFrom-Json\n",
    "$apiGateWayUrl = $cloudfrontStackJson.Stacks[0].Outputs[0].OutputValue\n",
    "Write-Host \"Api Gateway URL: $apiGateWayUrl\"\n",
    "\n",
    "$apiGateWayId = [regex]::match($apiGateWayUrl,'https://([A-Za-z0-9]+)').Groups[1].Value\n",
    "Write-Host \"API Gateway ID: $apiGateWayId\""
   ]
  },
  {
   "cell_type": "markdown",
   "metadata": {
    "dotnet_interactive": {
     "language": "csharp"
    },
    "polyglot_notebook": {
     "kernelName": "csharp"
    }
   },
   "source": [
    "Enable tracing"
   ]
  },
  {
   "cell_type": "code",
   "execution_count": null,
   "metadata": {
    "dotnet_interactive": {
     "language": "pwsh"
    },
    "vscode": {
     "languageId": "polyglot-notebook"
    }
   },
   "outputs": [],
   "source": [
    "Write-Host \"Activating tracing for lambda...\"\n",
    "aws lambda update-function-configuration --function-name $deployedFunctionName --tracing-config Mode=Active\n",
    "\n",
    "Write-Host \"Activating tracing for API Gateway...\"\n",
    "aws apigateway update-stage --rest-api-id $apiGateWayId --stage-name Prod --patch-operations op=replace,path=/tracingEnabled,value=true"
   ]
  },
  {
   "cell_type": "markdown",
   "metadata": {
    "dotnet_interactive": {
     "language": "csharp"
    },
    "polyglot_notebook": {
     "kernelName": "csharp"
    }
   },
   "source": [
    "Allow the lambda to publish in SNS"
   ]
  },
  {
   "cell_type": "code",
   "execution_count": null,
   "metadata": {
    "dotnet_interactive": {
     "language": "pwsh"
    },
    "vscode": {
     "languageId": "polyglot-notebook"
    }
   },
   "outputs": [],
   "source": [
    "Write-Host \"Allowing lambda to publish to SNS...\"\n",
    "aws iam attach-role-policy --policy-arn arn:aws:iam::aws:policy/AmazonSNSFullAccess --role-name $roleName"
   ]
  },
  {
   "cell_type": "markdown",
   "metadata": {
    "dotnet_interactive": {
     "language": "csharp"
    },
    "polyglot_notebook": {
     "kernelName": "csharp"
    }
   },
   "source": [
    "Add the SNS Topic ARN as env variable of the function"
   ]
  },
  {
   "cell_type": "code",
   "execution_count": null,
   "metadata": {
    "dotnet_interactive": {
     "language": "pwsh"
    },
    "vscode": {
     "languageId": "polyglot-notebook"
    }
   },
   "outputs": [],
   "source": [
    "Write-Host \"Adding sns topic arn to lambda env variables...\"\n",
    "aws lambda update-function-configuration --function-name $deployedFunctionName --environment \"Variables={AWS_SNS_TOPICARN=$snsTopicArn}\""
   ]
  },
  {
   "cell_type": "markdown",
   "metadata": {
    "dotnet_interactive": {
     "language": "csharp"
    },
    "polyglot_notebook": {
     "kernelName": "csharp"
    }
   },
   "source": [
    "# <p style=\"text-align: center;\">🎉 Deployed!</p>\n",
    "\n",
    "# Test it"
   ]
  },
  {
   "attachments": {},
   "cell_type": "markdown",
   "metadata": {
    "dotnet_interactive": {
     "language": "pwsh"
    },
    "polyglot_notebook": {
     "kernelName": "pwsh"
    }
   },
   "source": [
    "If \"Run All\", just sleep because the Polyglot notebooks just sucks."
   ]
  },
  {
   "cell_type": "code",
   "execution_count": null,
   "metadata": {
    "dotnet_interactive": {
     "language": "pwsh"
    },
    "polyglot_notebook": {
     "kernelName": "pwsh"
    },
    "vscode": {
     "languageId": "polyglot-notebook"
    }
   },
   "outputs": [],
   "source": [
    "Write-Host \"Sleeping for 5s...\"\n",
    "Start-Sleep -Seconds 5\n",
    "Write-Host \"Back to business!\""
   ]
  },
  {
   "cell_type": "code",
   "execution_count": null,
   "metadata": {
    "dotnet_interactive": {
     "language": "pwsh"
    },
    "vscode": {
     "languageId": "polyglot-notebook"
    }
   },
   "outputs": [],
   "source": [
    "$payload = '{\n",
    "    \"name\": \"Joan Comas\",\n",
    "    \"address\": \"Awesome street 7, Nicetown, Amazingland\"\n",
    "}'\n",
    "Invoke-WebRequest -Method Post -Uri ($apiGateWayUrl + \"users\") -ContentType \"application/json\" -Body $payload"
   ]
  },
  {
   "cell_type": "markdown",
   "metadata": {
    "dotnet_interactive": {
     "language": "csharp"
    },
    "polyglot_notebook": {
     "kernelName": "csharp"
    }
   },
   "source": [
    "# Clean up"
   ]
  },
  {
   "cell_type": "code",
   "execution_count": null,
   "metadata": {
    "dotnet_interactive": {
     "language": "pwsh"
    },
    "polyglot_notebook": {
     "kernelName": "pwsh"
    },
    "vscode": {
     "languageId": "polyglot-notebook"
    }
   },
   "outputs": [],
   "source": [
    "return\n",
    "aws iam detach-role-policy --role-name $roleName --policy-arn arn:aws:iam::aws:policy/AmazonSNSFullAccess\n",
    "aws cloudformation delete-stack --stack-name $functionName\n",
    "aws sns delete-topic --topic-arn $snsTopicArn\n",
    "aws s3 rb --force $s3BucketUri"
   ]
  }
 ],
 "metadata": {
  "kernelspec": {
   "display_name": ".NET (C#)",
   "language": "C#",
   "name": ".net-csharp"
  },
  "polyglot_notebook": {
   "kernelInfo": {
    "defaultKernelName": "csharp",
    "items": [
     {
      "aliases": [
       "c#",
       "C#"
      ],
      "languageName": "C#",
      "name": "csharp"
     },
     {
      "aliases": [
       "frontend"
      ],
      "name": "vscode"
     },
     {
      "aliases": [],
      "name": ".NET"
     },
     {
      "aliases": [
       "f#",
       "F#"
      ],
      "languageName": "F#",
      "name": "fsharp"
     },
     {
      "aliases": [],
      "languageName": "HTML",
      "name": "html"
     },
     {
      "aliases": [
       "js"
      ],
      "languageName": "JavaScript",
      "name": "javascript"
     },
     {
      "aliases": [],
      "languageName": "KQL",
      "name": "kql"
     },
     {
      "aliases": [],
      "languageName": "Mermaid",
      "name": "mermaid"
     },
     {
      "aliases": [
       "powershell"
      ],
      "languageName": "PowerShell",
      "name": "pwsh"
     },
     {
      "aliases": [],
      "languageName": "SQL",
      "name": "sql"
     },
     {
      "aliases": [],
      "name": "value"
     },
     {
      "aliases": [],
      "name": "webview"
     }
    ]
   }
  }
 },
 "nbformat": 4,
 "nbformat_minor": 2
}
